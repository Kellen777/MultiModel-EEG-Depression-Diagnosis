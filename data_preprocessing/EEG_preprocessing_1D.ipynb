{
 "cells": [
  {
   "cell_type": "code",
   "execution_count": 2,
   "metadata": {},
   "outputs": [],
   "source": [
    "import os\n",
    "import numpy as np\n",
    "import torch\n",
    "from torch.utils.data import Dataset\n",
    "from sklearn.preprocessing import StandardScaler\n",
    "from torch.utils.data import DataLoader, TensorDataset\n",
    "from sklearn.model_selection import train_test_split"
   ]
  },
  {
   "cell_type": "code",
   "execution_count": 3,
   "metadata": {},
   "outputs": [],
   "source": [
    "\n",
    "class EEGDataset(Dataset):\n",
    "    def __init__(self, data_dir, channels, timesteps):\n",
    "        self.data_dir = data_dir # 数据集文件夹路径\n",
    "        self.channels = channels # 要选择的 EEG 通道\n",
    "        self.timesteps = timesteps  # 每个样本的时间步数\n",
    "\n",
    "        self.samples = []  # 用于存储所有样本\n",
    "        self.labels = []   # 用于存储每个样本的标签\n",
    "\n",
    "        # 初始化标准化处理\n",
    "        self.scaler = StandardScaler()\n",
    "\n",
    "        # 遍历Control和MDD文件夹\n",
    "        for label, class_name in enumerate(['Control', 'MDD']):\n",
    "            class_dir = os.path.join(data_dir, class_name)\n",
    "            for file_name in os.listdir(class_dir):\n",
    "                if file_name.endswith('.npy'):\n",
    "                    file_path = os.path.join(class_dir, file_name)\n",
    "                    data = np.load(file_path)\n",
    "\n",
    "                    # 选择指定的电极通道（去掉参考电极）\n",
    "                    selected_data = data[self.channels, :]\n",
    "                    \n",
    "                    # 裁剪到最短的长度（根据数据的最短时间长度来裁剪）\n",
    "                    min_length = min(selected_data.shape[1], 75089)\n",
    "                    selected_data = selected_data[:, :min_length]  # 确保数据长度一致\n",
    "                    \n",
    "                    # 对数据进行标准化\n",
    "                    selected_data = self.scaler.fit_transform(selected_data.T).T  # 按列进行标准化\n",
    "\n",
    "                    # 将数据分成多个小样本，每个样本包含timesteps长度的时间序列数据\n",
    "                    for i in range(0, selected_data.shape[1] - self.timesteps + 1, self.timesteps):\n",
    "                        sample = selected_data[:, i:i + self.timesteps]  # 每次选择timesteps长度的数据片段\n",
    "                        sample = np.array(sample, dtype=np.float32)\n",
    "                        sample = sample.T\n",
    "\n",
    "                        # 将numpy数组转换为PyTorch张量\n",
    "                        sample = torch.from_numpy(sample).float()\n",
    "                        self.samples.append(sample)  # 添加到样本列表\n",
    "                        self.labels.append(label)  # 标签为0(Control)或1(MDD)\n",
    "\n",
    "    def __len__(self):\n",
    "        return len(self.samples)\n",
    "\n",
    "    def __getitem__(self, idx):\n",
    "        sample = self.samples[idx]\n",
    "        label = self.labels[idx]\n",
    "        return sample, label"
   ]
  },
  {
   "cell_type": "code",
   "execution_count": 4,
   "metadata": {},
   "outputs": [],
   "source": [
    "data_dir = \"../data/EEG_dataset\"  # 数据路径\n",
    "channels = list(range(128))  # 选择前128个电极通道\n",
    "timesteps = 1000  # 每个样本的时间步长，例如每个样本包含1000个时间点\n",
    "\n",
    "# 创建 EEG 数据集\n",
    "dataset = EEGDataset(data_dir=data_dir, channels=channels, timesteps=timesteps)"
   ]
  },
  {
   "cell_type": "code",
   "execution_count": 5,
   "metadata": {},
   "outputs": [
    {
     "name": "stdout",
     "output_type": "stream",
     "text": [
      "3975\n"
     ]
    }
   ],
   "source": [
    "print(len(dataset.samples)) #样本数量"
   ]
  },
  {
   "cell_type": "code",
   "execution_count": 6,
   "metadata": {},
   "outputs": [],
   "source": [
    "# 样本和标签\n",
    "samples = dataset.samples\n",
    "labels = dataset.labels\n",
    "\n",
    "samples = np.array(samples)  # 转换为 NumPy 数组，确保它是一个多维数组\n",
    "\n",
    "# 划分训练集和临时集（验证集+测试集）\n",
    "X_train, X_temp, y_train, y_temp = train_test_split(samples, labels, test_size=0.3, random_state=42)\n",
    "\n",
    "# 将临时集划分为验证集和测试集\n",
    "X_val, X_test, y_val, y_test = train_test_split(X_temp, y_temp, test_size=0.5, random_state=42)\n",
    "\n",
    "# 确保数据形状是合适的，转换为PyTorch张量\n",
    "X_train_tensor = torch.tensor(X_train, dtype=torch.float32)\n",
    "y_train_tensor = torch.tensor(y_train, dtype=torch.long)\n",
    "\n",
    "X_val_tensor = torch.tensor(X_val, dtype=torch.float32)\n",
    "y_val_tensor = torch.tensor(y_val, dtype=torch.long)\n",
    "\n",
    "X_test_tensor = torch.tensor(X_test, dtype=torch.float32)\n",
    "y_test_tensor = torch.tensor(y_test, dtype=torch.long)\n",
    "\n",
    "# 创建DataLoader\n",
    "train_data = TensorDataset(X_train_tensor, y_train_tensor)\n",
    "val_data = TensorDataset(X_val_tensor, y_val_tensor)\n",
    "test_data = TensorDataset(X_test_tensor, y_test_tensor)\n",
    "\n",
    "train_loader = DataLoader(train_data, batch_size=32, shuffle=True)\n",
    "val_loader = DataLoader(val_data, batch_size=32, shuffle=False)\n",
    "test_loader = DataLoader(test_data, batch_size=32, shuffle=False)"
   ]
  },
  {
   "cell_type": "code",
   "execution_count": 7,
   "metadata": {},
   "outputs": [],
   "source": [
    "save_path='../data/Dataloader_1D'\n",
    "if not os.path.exists(save_path):\n",
    "    os.makedirs(save_path)\n",
    "\n",
    "# 保存DataLoader的对象\n",
    "torch.save(train_loader, os.path.join(save_path, 'train_loader.pth'))\n",
    "torch.save(val_loader, os.path.join(save_path, 'val_loader.pth'))\n",
    "torch.save(test_loader, os.path.join(save_path, 'test_loader.pth'))"
   ]
  }
 ],
 "metadata": {
  "kernelspec": {
   "display_name": "Python 3",
   "language": "python",
   "name": "python3"
  },
  "language_info": {
   "codemirror_mode": {
    "name": "ipython",
    "version": 3
   },
   "file_extension": ".py",
   "mimetype": "text/x-python",
   "name": "python",
   "nbconvert_exporter": "python",
   "pygments_lexer": "ipython3",
   "version": "3.10.11"
  }
 },
 "nbformat": 4,
 "nbformat_minor": 2
}
